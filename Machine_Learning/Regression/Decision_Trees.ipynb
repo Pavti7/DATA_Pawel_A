{
 "cells": [
  {
   "cell_type": "code",
   "execution_count": null,
   "id": "5dbfc78d",
   "metadata": {},
   "outputs": [],
   "source": [
    "import pandas as pd\n",
    "import numpy as np\n",
    "import matplotlib.pyplot as plt\n",
    "from sklearn.tree import DecisionTreeRegressor"
   ]
  },
  {
   "cell_type": "code",
   "execution_count": null,
   "id": "1889774d",
   "metadata": {},
   "outputs": [],
   "source": [
    "url='https://raw.githubusercontent.com/girishkuniyal/Predict-housing-prices-in-Portland/master/ex1data2.txt'\n",
    "df=pd.read_csv(url,header=None)"
   ]
  },
  {
   "cell_type": "code",
   "execution_count": null,
   "id": "6aafda02",
   "metadata": {},
   "outputs": [],
   "source": [
    "df.columns=['Size','Bedrooms','Price']\n",
    "df.head()"
   ]
  },
  {
   "cell_type": "code",
   "execution_count": null,
   "id": "6788ea95",
   "metadata": {},
   "outputs": [],
   "source": [
    "X=df[['Size','Bedrooms']]\n",
    "y=df['Price']"
   ]
  },
  {
   "cell_type": "code",
   "execution_count": null,
   "id": "94677cea",
   "metadata": {},
   "outputs": [],
   "source": [
    "model=DecisionTreeRegressor(max_depth=5,min_samples_leaf=3)\n",
    "model.fit(X,y)"
   ]
  },
  {
   "cell_type": "code",
   "execution_count": null,
   "id": "2b4513fa",
   "metadata": {},
   "outputs": [],
   "source": [
    "predict_data=np.array([[3200,3],[3720,2]])\n",
    "predict_data"
   ]
  },
  {
   "cell_type": "code",
   "execution_count": null,
   "id": "3f318640",
   "metadata": {},
   "outputs": [],
   "source": [
    "model.predict(predict_data)"
   ]
  },
  {
   "cell_type": "code",
   "execution_count": null,
   "id": "20c2cfe9",
   "metadata": {},
   "outputs": [],
   "source": [
    "from sklearn import tree\n",
    "fig = plt.figure(figsize=(20,15))\n",
    "_=tree.plot_tree(model,feature_names=X.columns,filled=True)"
   ]
  },
  {
   "cell_type": "code",
   "execution_count": null,
   "id": "5d2ba9e9",
   "metadata": {},
   "outputs": [],
   "source": [
    "feat_importance=model.tree_.compute_feature_importances(normalize=False)\n",
    "feat_importance=pd.concat([X.columns.to_series().reset_index(drop=True),pd.Series(feat_importance)],axis=1)\n",
    "feat_importance=feat_importance.sort_values(feat_importance.columns[1],ascending=False)\n",
    "feat_importance"
   ]
  }
 ],
 "metadata": {
  "kernelspec": {
   "display_name": "Python 3 (ipykernel)",
   "language": "python",
   "name": "python3"
  },
  "language_info": {
   "codemirror_mode": {
    "name": "ipython",
    "version": 3
   },
   "file_extension": ".py",
   "mimetype": "text/x-python",
   "name": "python",
   "nbconvert_exporter": "python",
   "pygments_lexer": "ipython3",
   "version": "3.10.10"
  }
 },
 "nbformat": 4,
 "nbformat_minor": 5
}
