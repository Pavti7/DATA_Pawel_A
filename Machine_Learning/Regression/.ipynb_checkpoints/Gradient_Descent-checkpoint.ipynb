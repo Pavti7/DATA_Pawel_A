{
 "cells": [
  {
   "cell_type": "code",
   "execution_count": null,
   "id": "58d8528e",
   "metadata": {},
   "outputs": [],
   "source": [
    "##Gradient descent\n",
    "#Gradient descent is one of methods of machine learning, when it comes to regression methods.\n",
    "\n",
    "#In this method we are taking a point and from that point go towards local minimum of the function."
   ]
  },
  {
   "cell_type": "code",
   "execution_count": null,
   "id": "25626ed5",
   "metadata": {},
   "outputs": [],
   "source": [
    "# imports\n",
    "import numpy as np\n",
    "import pandas as pd\n",
    "from pandas.core.computation.pytables import Constant\n",
    "import matplotlib.pyplot as plt\n",
    "from sklearn.linear_model import LinearRegression"
   ]
  },
  {
   "cell_type": "code",
   "execution_count": null,
   "id": "8433ed22",
   "metadata": {},
   "outputs": [],
   "source": [
    "url='https://raw.githubusercontent.com/girishkuniyal/Predict-housing-prices-in-Portland/master/ex1data2.txt'\n",
    "df=pd.read_csv(url)"
   ]
  },
  {
   "cell_type": "code",
   "execution_count": null,
   "id": "1de58372",
   "metadata": {},
   "outputs": [],
   "source": [
    "#gradient\n",
    "\n",
    "#przyporządkowanie zmiennej zależnej i niezależnej\n",
    "X=df['Size'].values\n",
    "y=df['Price'].values\n",
    "\n",
    "X=np.column_stack(([1]*len(X),X)) # dodanie kolumny z jedynkami - technikalia"
   ]
  },
  {
   "cell_type": "code",
   "execution_count": null,
   "id": "613a9456",
   "metadata": {},
   "outputs": [],
   "source": [
    "from pandas.core.computation.pytables import Constant\n",
    "def gradientDescent(X,y,theta,alpha,m,numIterations):\n",
    "  '''\n",
    "  param: X - zmienne niezalezne\n",
    "  param: y - zmienna zalezna\n",
    "  param: theta - macierz [Theta_0 czyli punkt przeciecia/wyraz wolny, Theta_1 czyli wspolczynnik od X1]\n",
    "  param: alpha - wspolczynnik uczenia - jak duze kroki zrobic\n",
    "  param: m - liczba obserwacji\n",
    "  param: numIterations - liczba iteracji naszego modelu, czyli ile krokow zrobic\n",
    "  '''\n",
    "  xTrans=X.transpose()                        # potrzebne do obliczenia gradientow (technikalia)\n",
    "  cost_array=np.empty([numIterations,2])      # macierz, do ktorej bede zapisywac wartosc funkcji kosztu po kazdej iteracji\n",
    "  for i in range(0,numIterations):            #petla\n",
    "    hypothesis=np.dot(X,theta)                #bierzemy kazdy x, mnozymy przez theta_1 i dodajemy theta_0 - przewiduje cene domu\n",
    "    loss=hypothesis-y                         #odleglosc kropek od linii, innymi slowy reszty/roznice\n",
    "    cost=np.sum(loss**2)/(2*m)                #wartosc funkcji kosztu\n",
    "    print('Iteration %d | Cost %f' %(i,cost))\n",
    "    cost_array[i][0]=i                  \n",
    "    cost_array[i][1]=cost\n",
    "    gradient=np.dot(xTrans,loss)/m            #pochodna cząstkowa funkcji\n",
    "    theta=theta-alpha*gradient\n",
    "  return theta,cost_array"
   ]
  },
  {
   "cell_type": "code",
   "execution_count": null,
   "id": "c1ef836e",
   "metadata": {},
   "outputs": [],
   "source": [
    "m=len(X)\n",
    "numIterations=100\n",
    "alpha=0.00000005\n",
    "theta=[10000,200] #theta0, theta1\n",
    "theta,cost_array=gradientDescent(X,y,theta,alpha,m,numIterations)"
   ]
  },
  {
   "cell_type": "code",
   "execution_count": null,
   "id": "45448be4",
   "metadata": {},
   "outputs": [],
   "source": [
    "epoch=range(len(cost_array[:,0]))\n",
    "plt.plot(epoch,cost_array[:,1],'o')\n",
    "plt.xlabel('Iteration')\n",
    "plt.ylabel('Loss')\n",
    "plt.show()"
   ]
  },
  {
   "cell_type": "code",
   "execution_count": null,
   "id": "6a9175cc",
   "metadata": {},
   "outputs": [],
   "source": [
    "plt.plot(df['Size'],df['Price'],'o')\n",
    "plt.plot(df['Size'],theta[0]+df[\"Size\"]*theta[1],'r')\n",
    "plt.show()"
   ]
  },
  {
   "cell_type": "code",
   "execution_count": null,
   "id": "e22653bc",
   "metadata": {},
   "outputs": [],
   "source": [
    "#na podstawie wytrenowanych wspolczynnikow theta stworz funkcję\n",
    "#zdolna do predykcji ilosci wypozyczonych rowerow w zaleznosci od temperatury \n",
    "def predict_price(x,theta_0,theta_1):\n",
    "  result=theta_0+theta_1*x\n",
    "  return result"
   ]
  },
  {
   "cell_type": "code",
   "execution_count": null,
   "id": "b0d4b836",
   "metadata": {},
   "outputs": [],
   "source": [
    "#stworz predykcję ilości wypożyczonych rowerów na dzień, w którym unormalizowana temperatura wynosila 0.8\n",
    "predict_price(x=0.8,theta_0=theta[0],theta_1=theta[1])"
   ]
  },
  {
   "cell_type": "code",
   "execution_count": null,
   "id": "83d71e60",
   "metadata": {},
   "outputs": [],
   "source": [
    "epoch=range(len(cost_array[:,0]))\n",
    "plt.plot(epoch,cost_array[:,1],'o')\n",
    "plt.xlabel('Iteration')\n",
    "plt.ylabel('Loss')\n",
    "plt.show()"
   ]
  },
  {
   "cell_type": "code",
   "execution_count": null,
   "id": "ca1ec893",
   "metadata": {},
   "outputs": [],
   "source": [
    "plt.plot(df['Size'],df['Price'],'o')\n",
    "plt.plot(df['Size'],theta[0]+df[\"Size\"]*theta[1],'r')\n",
    "plt.show()"
   ]
  }
 ],
 "metadata": {
  "kernelspec": {
   "display_name": "Python 3 (ipykernel)",
   "language": "python",
   "name": "python3"
  },
  "language_info": {
   "codemirror_mode": {
    "name": "ipython",
    "version": 3
   },
   "file_extension": ".py",
   "mimetype": "text/x-python",
   "name": "python",
   "nbconvert_exporter": "python",
   "pygments_lexer": "ipython3",
   "version": "3.10.10"
  }
 },
 "nbformat": 4,
 "nbformat_minor": 5
}
