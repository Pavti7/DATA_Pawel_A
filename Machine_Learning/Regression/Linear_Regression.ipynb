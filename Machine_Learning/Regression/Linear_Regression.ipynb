{
 "cells": [
  {
   "cell_type": "code",
   "execution_count": 1,
   "id": "29d1d53d",
   "metadata": {},
   "outputs": [],
   "source": [
    "##One variable regression"
   ]
  },
  {
   "cell_type": "code",
   "execution_count": 5,
   "id": "6fabfddf",
   "metadata": {},
   "outputs": [],
   "source": [
    "# imports\n",
    "import numpy as np\n",
    "import pandas as pd\n",
    "import matplotlib.pyplot as plt\n",
    "#from sklearn.linear_model import LinearRegression\n",
    "import plotly.express as px\n",
    "import plotly.graph_objects as go"
   ]
  },
  {
   "cell_type": "code",
   "execution_count": 3,
   "id": "d2074dd0",
   "metadata": {
    "scrolled": false
   },
   "outputs": [],
   "source": [
    "url='https://raw.githubusercontent.com/girishkuniyal/Predict-housing-prices-in-Portland/master/ex1data2.txt'\n",
    "df=pd.read_csv(url)"
   ]
  },
  {
   "cell_type": "code",
   "execution_count": null,
   "id": "d3e805c6",
   "metadata": {},
   "outputs": [],
   "source": [
    "X=df[['Size']]\n",
    "y=df['Price']"
   ]
  },
  {
   "cell_type": "code",
   "execution_count": null,
   "id": "bc067d97",
   "metadata": {},
   "outputs": [],
   "source": [
    "model=LinearRegression()\n",
    "model.fit(X,y)"
   ]
  },
  {
   "cell_type": "code",
   "execution_count": null,
   "id": "3590d551",
   "metadata": {},
   "outputs": [],
   "source": [
    "# gdyby wszystkie wartosci == 0\n",
    "model.intercept_"
   ]
  },
  {
   "cell_type": "code",
   "execution_count": null,
   "id": "bc7ffa4b",
   "metadata": {},
   "outputs": [],
   "source": [
    "# jak która wartość zmienia y\n",
    "model.coef_"
   ]
  },
  {
   "cell_type": "code",
   "execution_count": null,
   "id": "40d33b25",
   "metadata": {},
   "outputs": [],
   "source": [
    "predict_data=np.array([[3200],[3720]])\n",
    "predict_data"
   ]
  },
  {
   "cell_type": "code",
   "execution_count": null,
   "id": "4ae9ca43",
   "metadata": {},
   "outputs": [],
   "source": [
    "model.predict(predict_data)"
   ]
  },
  {
   "cell_type": "code",
   "execution_count": null,
   "id": "1a198d13",
   "metadata": {},
   "outputs": [],
   "source": [
    "plt.scatter(X,y,color='red')\n",
    "plt.plot(X,model.predict(X),color='green')\n",
    "plt.title('Price vs Size')\n",
    "plt.xlabel('Size')\n",
    "plt.ylabel('Price')\n",
    "plt.show()"
   ]
  },
  {
   "cell_type": "code",
   "execution_count": null,
   "id": "003345b2",
   "metadata": {},
   "outputs": [],
   "source": [
    "x_range=np.linspace(X['Size'].min(),X['Size'].max(),50)\n",
    "y_range=model.predict(x_range.reshape(-1,1))\n",
    "\n",
    "fig=px.scatter(x=X['Size'],y=y,opacity=0.65)\n",
    "fig.add_traces(go.Scatter(x=x_range,y=y_range,name='Regression Fit'))\n",
    "fig.show()"
   ]
  },
  {
   "cell_type": "code",
   "execution_count": null,
   "id": "6f58a8d2",
   "metadata": {},
   "outputs": [],
   "source": []
  },
  {
   "cell_type": "markdown",
   "id": "687a568d",
   "metadata": {},
   "source": [
    "# Multiple variable regression"
   ]
  },
  {
   "cell_type": "code",
   "execution_count": null,
   "id": "93f485df",
   "metadata": {},
   "outputs": [],
   "source": [
    "X=df[['Size','Bedrooms']]\n",
    "y=df['Price']"
   ]
  },
  {
   "cell_type": "code",
   "execution_count": null,
   "id": "0807bd59",
   "metadata": {},
   "outputs": [],
   "source": [
    "model=LinearRegression()\n",
    "model.fit(X,y)"
   ]
  },
  {
   "cell_type": "code",
   "execution_count": null,
   "id": "b0c708aa",
   "metadata": {},
   "outputs": [],
   "source": [
    "model.intercept_"
   ]
  },
  {
   "cell_type": "code",
   "execution_count": null,
   "id": "8e8d5860",
   "metadata": {},
   "outputs": [],
   "source": [
    "model.coef_"
   ]
  },
  {
   "cell_type": "code",
   "execution_count": null,
   "id": "8529deb2",
   "metadata": {},
   "outputs": [],
   "source": [
    "predict_data=np.array([[3200,3],[3720,2],[5000,10]])\n",
    "predict_data"
   ]
  },
  {
   "cell_type": "code",
   "execution_count": null,
   "id": "5976a5ff",
   "metadata": {},
   "outputs": [],
   "source": [
    "model.predict(predict_data)"
   ]
  }
 ],
 "metadata": {
  "kernelspec": {
   "display_name": "Python 3 (ipykernel)",
   "language": "python",
   "name": "python3"
  },
  "language_info": {
   "codemirror_mode": {
    "name": "ipython",
    "version": 3
   },
   "file_extension": ".py",
   "mimetype": "text/x-python",
   "name": "python",
   "nbconvert_exporter": "python",
   "pygments_lexer": "ipython3",
   "version": "3.10.10"
  }
 },
 "nbformat": 4,
 "nbformat_minor": 5
}
